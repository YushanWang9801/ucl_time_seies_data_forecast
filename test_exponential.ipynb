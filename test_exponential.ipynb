{
 "cells": [
  {
   "cell_type": "code",
   "execution_count": 1,
   "metadata": {},
   "outputs": [],
   "source": [
    "# import the urllib library\n",
    "import urllib.request\n",
    "from datetime import date\n",
    "import numpy as np\n",
    "import pandas as pd\n",
    "import pandas as pd\n",
    "import matplotlib.pyplot as plt \n",
    "import matplotlib.style #Some style nonsense\n",
    "import matplotlib as mpl #Some more style nonsense\n",
    "mpl.rcParams['figure.dpi']=200\n",
    "mpl.rc('xtick', labelsize=8) \n",
    "mpl.rc('ytick', labelsize=8) \n",
    " \n",
    "#Class that keeps information about station name and location\n",
    "class Station():\n",
    "    def __init__(self,sid,lat,lon,el,state,name,gsn,hcn,wmo,country):\n",
    "        self.sid=sid\n",
    "        self.lat=lat\n",
    "        self.lon=lon\n",
    "        self.el=el\n",
    "        self.state=state\n",
    "        self.name=name\n",
    "        self.gsn=gsn\n",
    "        self.hcn=hcn\n",
    "        self.wmo=wmo\n",
    "        self.country=country\n",
    "        \n",
    "    def __str__(self):\n",
    "        return self.sid+\" is \"+self.name+\", \"+self.country+\" at \"+str(self.lat)+\", \"+str(self.lon)+\", \"+str(self.el)\n",
    "\n",
    "#Class that hides some ugly reading routines\n",
    "class GHNCD:\n",
    "     \n",
    "    #Class constructor\n",
    "    def __init__(self): \n",
    "        self.station_col_len = [11,4,2,4]\n",
    "        for i in range(31):\n",
    "            self.station_col_len.append(5)\n",
    "            self.station_col_len.append(3)\n",
    "    \n",
    "    # Split up the fixed length text arrays into fields\n",
    "    def chunkstring(self,string, lengths):\n",
    "        return (string[pos:pos+length].strip() \n",
    "                for idx,length in enumerate(lengths)\n",
    "                for pos in [sum(map(int, lengths[:idx]))])\n",
    "\n",
    "    # Process a file and extract all the information into a dictionary\n",
    "    def processFile(self,fileName):\n",
    "        outDict={} #\n",
    "        with open(fileName, 'r') as fp: # Open file\n",
    "            line = fp.readline()  #Read first line\n",
    "            while line: # Process line\n",
    "                fields = list(self.chunkstring(line, self.station_col_len)) #Get list of fields\n",
    "                \n",
    "                # For clarity use some variable names\n",
    "                station=fields[0]  \n",
    "                year=int(fields[1])\n",
    "                month=int(fields[2])\n",
    "                field=fields[3]\n",
    "                vals=fields[4::2]\n",
    "                flags=fields[5::2]\n",
    "                # Not clear this is the only check we need, but for now\n",
    "                def checkInt(x,flag):\n",
    "                    if flag=='':\n",
    "                        return -9999\n",
    "                    return int(x)\n",
    "                \n",
    "                #Convert missing entries to -9999 using this swishy bit of string comprehension\n",
    "                ivals=[checkInt(x,flag) for (x,flag) in zip(vals,flags)]\n",
    "                monthDict=dict(year=year,month=month,field=field,vals=ivals,flags=flags)\n",
    "                if field in outDict.keys():\n",
    "                    outDict[field]['monthList'].append(monthDict)\n",
    "                else:\n",
    "                    fieldDict=dict(monthList=[monthDict])\n",
    "                    outDict[field]=fieldDict\n",
    "                line = fp.readline()\n",
    "        return dict(outDict) #Return a copy\n",
    "    \n",
    "    def readCountriesFile(self,fileName=None):\n",
    "        self.countryDict={}\n",
    "        if fileName==None:\n",
    "            file = urllib.request.urlopen('http://www.hep.ucl.ac.uk/undergrad/0056/other/projects/ghcnd/ghcnd-countries.txt')\n",
    "        else:\n",
    "            file = open(fileName,'r')\n",
    "        \n",
    "        for line in file:\n",
    "            c=str(line[0:2], 'utf-8')\n",
    "            d=str(line[3:-2], 'utf-8')                  \n",
    "            self.countryDict[c]=d\n",
    "        print(\"Read\",len(self.countryDict),\"countries and codes\")\n",
    "        \n",
    "    \n",
    "    def readStationsFile(self,fileName=None,justGSN=True):\n",
    "        \n",
    "        #------------------------------\n",
    "        #Variable   Columns   Type\n",
    "        #------------------------------\n",
    "        #ID            1-11   Character\n",
    "        #LATITUDE     13-20   Real\n",
    "        #LONGITUDE    22-30   Real\n",
    "        #ELEVATION    32-37   Real\n",
    "        #STATE        39-40   Character\n",
    "        #NAME         42-71   Character\n",
    "        #GSN FLAG     73-75   Character\n",
    "        #HCN/CRN FLAG 77-79   Character\n",
    "        #WMO ID       81-85   Character\n",
    "        #------------------------------\n",
    "        self.stationDict={}\n",
    "        if fileName==None:\n",
    "            file = urllib.request.urlopen('http://www.hep.ucl.ac.uk/undergrad/0056/other/projects/ghcnd/ghcnd-stations.txt')\n",
    "        else:\n",
    "            file = open(fileName,'r')\n",
    "        \n",
    "        for line in file:\n",
    "            sid=str(line[0:11], 'utf-8')\n",
    "            lat=float(str(line[12:20], 'utf-8'))\n",
    "            lon=float(str(line[21:30], 'utf-8'))\n",
    "            el=float(str(line[31:37], 'utf-8'))\n",
    "            state=str(line[38:40], 'utf-8')\n",
    "            name=str(line[41:71], 'utf-8')\n",
    "            gsn=str(line[72:75], 'utf-8')\n",
    "            hcn=str(line[76:79], 'utf-8')\n",
    "            wmo=str(line[80:85], 'utf-8')\n",
    "            \n",
    "           \n",
    "            if justGSN:\n",
    "                if gsn=='   ':\n",
    "                    continue\n",
    "            self.stationDict[sid]=Station(sid,lat,lon,el,state,name.rstrip(),gsn,hcn,wmo,self.countryDict[sid[0:2]])\n",
    "        print(\"Read\",len(self.stationDict),\"stations with justGSN\",justGSN)\n",
    "\n",
    "    # Get all the data for a given variable type\n",
    "    def getVar(self,statDict,varName='TMAX'):\n",
    "        #The TMIN, TMAX, PRCP are all quoted in tenths (so need to be multipied by 0.1)\n",
    "        cal=0.1\n",
    "        if varName=='SNOW' or varName=='SNWD':\n",
    "            cal=1.0\n",
    "        tempList=[ (date(month['year'],month['month'],ind+1),cal*val)  for month in statDict[varName]['monthList'] for ind, val in enumerate(month['vals']) if val!=-9999   ]\n",
    "        return tempList\n",
    "    \n",
    "    def getTMAX(self,statDict):\n",
    "        return self.getVar(statDict,'TMAX')\n",
    "    \n",
    "    def printStation(self,sid):\n",
    "        print(self.stationDict[sid])\n",
    "        \n",
    "    def getStation(self,sid):\n",
    "        return self.stationDict[sid]\n",
    "        \n",
    "    def getStatKeyNames(self):\n",
    "        #print(self.stationDict.keys())\n",
    "        return [*self.stationDict.keys()] "
   ]
  },
  {
   "cell_type": "code",
   "execution_count": 2,
   "metadata": {},
   "outputs": [
    {
     "name": "stdout",
     "output_type": "stream",
     "text": [
      "Read 219 countries and codes\n",
      "Read 991 stations with justGSN True\n"
     ]
    }
   ],
   "source": [
    "ghn=GHNCD()\n",
    "ghn.readCountriesFile()\n",
    "ghn.readStationsFile()"
   ]
  },
  {
   "cell_type": "code",
   "execution_count": 3,
   "metadata": {},
   "outputs": [
    {
     "name": "stdout",
     "output_type": "stream",
     "text": [
      "CA002400404 is ARCTIC BAY CS, Canada at 73.0, -85.0167, 10.0\n"
     ]
    }
   ],
   "source": [
    "# Get list of station names\n",
    "statNames=ghn.getStatKeyNames()\n",
    "\n",
    "# Arbitrary number from 0 to 990\n",
    "whichStat=220\n",
    "fileName=statNames[whichStat]+'.dly'\n",
    "urlName='http://www.hep.ucl.ac.uk/undergrad/0056/other/projects/ghcnd/ghcnd_gsn/'+fileName\n",
    "\n",
    "# Copy a network object to a local file\n",
    "urllib.request.urlretrieve(urlName,fileName)\n",
    "statDict=ghn.processFile(fileName)\n",
    "print(ghn.getStation(statNames[whichStat]))"
   ]
  },
  {
   "cell_type": "code",
   "execution_count": 4,
   "metadata": {},
   "outputs": [],
   "source": [
    "def statDict(whichStat):\n",
    "    statNames=ghn.getStatKeyNames()\n",
    "    fileName=statNames[whichStat]+'.dly'\n",
    "    urlName='http://www.hep.ucl.ac.uk/undergrad/0056/other/projects/ghcnd/ghcnd_gsn/'+fileName\n",
    "\n",
    "    # Copy a network object to a local file\n",
    "    urllib.request.urlretrieve(urlName,fileName)\n",
    "    statDict=ghn.processFile(fileName)\n",
    "    return statDict"
   ]
  },
  {
   "cell_type": "code",
   "execution_count": 5,
   "metadata": {},
   "outputs": [],
   "source": [
    "statNames=ghn.getStatKeyNames()\n",
    "tmaxArray=ghn.getVar(statDict(whichStat),'TMAX')\n",
    "datesTmax, tmax = zip(*tmaxArray)\n",
    "tminArray=ghn.getVar(statDict(whichStat),'TMIN')\n",
    "datesTmin, tmin = zip(*tminArray)"
   ]
  },
  {
   "cell_type": "code",
   "execution_count": 109,
   "metadata": {},
   "outputs": [],
   "source": [
    "datesTmax = np.array([np.datetime64(datesTmax[i]) for i in range(len(datesTmax))], \n",
    "                                                dtype='datetime64[D]')\n",
    "dates_strmax = np.datetime_as_string(datesTmax)\n",
    "dfmax = pd.DataFrame({'temperature': tmax}, index=pd.to_datetime(dates_strmax))\n",
    "dfmax = dfmax.resample('D').asfreq()"
   ]
  },
  {
   "cell_type": "code",
   "execution_count": 110,
   "metadata": {},
   "outputs": [],
   "source": [
    "first_index = dfmax[dfmax[\"temperature\"].isna()].index.values[0]"
   ]
  },
  {
   "cell_type": "code",
   "execution_count": 114,
   "metadata": {},
   "outputs": [],
   "source": [
    "first_df = dfmax[:first_index-pd.Timedelta(days=1)]"
   ]
  },
  {
   "cell_type": "code",
   "execution_count": 117,
   "metadata": {},
   "outputs": [],
   "source": [
    "second_index = first_index.copy()"
   ]
  },
  {
   "cell_type": "code",
   "execution_count": 118,
   "metadata": {},
   "outputs": [
    {
     "name": "stdout",
     "output_type": "stream",
     "text": [
      "2000-01-31T00:00:00.000000000\n"
     ]
    }
   ],
   "source": [
    "for value in dfmax[dfmax[\"temperature\"].isna()].index.values[1:]:\n",
    "    if (value-second_index)/ pd.Timedelta(days=1) == 1.0:\n",
    "        second_index = value\n",
    "    else:\n",
    "        break\n",
    "print(second_index)"
   ]
  },
  {
   "cell_type": "code",
   "execution_count": 119,
   "metadata": {},
   "outputs": [
    {
     "data": {
      "text/plain": [
       "Timestamp('2000-02-01 00:00:00')"
      ]
     },
     "execution_count": 119,
     "metadata": {},
     "output_type": "execute_result"
    }
   ],
   "source": [
    "second_index+pd.Timedelta(days=1)"
   ]
  },
  {
   "cell_type": "code",
   "execution_count": 120,
   "metadata": {},
   "outputs": [],
   "source": [
    "gap_pred = dfmax[first_index:second_index]"
   ]
  },
  {
   "cell_type": "code",
   "execution_count": 121,
   "metadata": {},
   "outputs": [],
   "source": [
    "cutoff_df = dfmax[second_index+pd.Timedelta(days=1):]"
   ]
  },
  {
   "cell_type": "code",
   "execution_count": 122,
   "metadata": {},
   "outputs": [
    {
     "data": {
      "text/html": [
       "<div>\n",
       "<style scoped>\n",
       "    .dataframe tbody tr th:only-of-type {\n",
       "        vertical-align: middle;\n",
       "    }\n",
       "\n",
       "    .dataframe tbody tr th {\n",
       "        vertical-align: top;\n",
       "    }\n",
       "\n",
       "    .dataframe thead th {\n",
       "        text-align: right;\n",
       "    }\n",
       "</style>\n",
       "<table border=\"1\" class=\"dataframe\">\n",
       "  <thead>\n",
       "    <tr style=\"text-align: right;\">\n",
       "      <th></th>\n",
       "      <th>temperature</th>\n",
       "    </tr>\n",
       "  </thead>\n",
       "  <tbody>\n",
       "    <tr>\n",
       "      <th>2000-02-01</th>\n",
       "      <td>-11.9</td>\n",
       "    </tr>\n",
       "    <tr>\n",
       "      <th>2000-02-02</th>\n",
       "      <td>-11.3</td>\n",
       "    </tr>\n",
       "    <tr>\n",
       "      <th>2000-02-03</th>\n",
       "      <td>-16.7</td>\n",
       "    </tr>\n",
       "    <tr>\n",
       "      <th>2000-02-04</th>\n",
       "      <td>-22.1</td>\n",
       "    </tr>\n",
       "    <tr>\n",
       "      <th>2000-02-05</th>\n",
       "      <td>-25.8</td>\n",
       "    </tr>\n",
       "  </tbody>\n",
       "</table>\n",
       "</div>"
      ],
      "text/plain": [
       "            temperature\n",
       "2000-02-01        -11.9\n",
       "2000-02-02        -11.3\n",
       "2000-02-03        -16.7\n",
       "2000-02-04        -22.1\n",
       "2000-02-05        -25.8"
      ]
     },
     "execution_count": 122,
     "metadata": {},
     "output_type": "execute_result"
    }
   ],
   "source": [
    "cutoff_df.head()"
   ]
  },
  {
   "cell_type": "code",
   "execution_count": 123,
   "metadata": {},
   "outputs": [],
   "source": [
    "first_index = cutoff_df[cutoff_df[\"temperature\"].isna()].index.values[0]"
   ]
  },
  {
   "cell_type": "code",
   "execution_count": 127,
   "metadata": {},
   "outputs": [],
   "source": [
    "first_df = cutoff_df[:first_index-pd.Timedelta(days=1)]"
   ]
  },
  {
   "cell_type": "code",
   "execution_count": null,
   "metadata": {},
   "outputs": [],
   "source": []
  },
  {
   "cell_type": "code",
   "execution_count": 128,
   "metadata": {},
   "outputs": [
    {
     "data": {
      "text/plain": [
       "(54, 1)"
      ]
     },
     "execution_count": 128,
     "metadata": {},
     "output_type": "execute_result"
    }
   ],
   "source": [
    "first_df.shape"
   ]
  },
  {
   "cell_type": "code",
   "execution_count": 129,
   "metadata": {},
   "outputs": [
    {
     "data": {
      "text/html": [
       "<div>\n",
       "<style scoped>\n",
       "    .dataframe tbody tr th:only-of-type {\n",
       "        vertical-align: middle;\n",
       "    }\n",
       "\n",
       "    .dataframe tbody tr th {\n",
       "        vertical-align: top;\n",
       "    }\n",
       "\n",
       "    .dataframe thead th {\n",
       "        text-align: right;\n",
       "    }\n",
       "</style>\n",
       "<table border=\"1\" class=\"dataframe\">\n",
       "  <thead>\n",
       "    <tr style=\"text-align: right;\">\n",
       "      <th></th>\n",
       "      <th>temperature</th>\n",
       "    </tr>\n",
       "  </thead>\n",
       "  <tbody>\n",
       "    <tr>\n",
       "      <th>2000-03-21</th>\n",
       "      <td>-13.4</td>\n",
       "    </tr>\n",
       "    <tr>\n",
       "      <th>2000-03-22</th>\n",
       "      <td>-11.7</td>\n",
       "    </tr>\n",
       "    <tr>\n",
       "      <th>2000-03-23</th>\n",
       "      <td>-16.3</td>\n",
       "    </tr>\n",
       "    <tr>\n",
       "      <th>2000-03-24</th>\n",
       "      <td>-19.6</td>\n",
       "    </tr>\n",
       "    <tr>\n",
       "      <th>2000-03-25</th>\n",
       "      <td>-20.3</td>\n",
       "    </tr>\n",
       "  </tbody>\n",
       "</table>\n",
       "</div>"
      ],
      "text/plain": [
       "            temperature\n",
       "2000-03-21        -13.4\n",
       "2000-03-22        -11.7\n",
       "2000-03-23        -16.3\n",
       "2000-03-24        -19.6\n",
       "2000-03-25        -20.3"
      ]
     },
     "execution_count": 129,
     "metadata": {},
     "output_type": "execute_result"
    }
   ],
   "source": [
    "first_df.tail()"
   ]
  },
  {
   "cell_type": "code",
   "execution_count": null,
   "metadata": {},
   "outputs": [],
   "source": []
  }
 ],
 "metadata": {
  "kernelspec": {
   "display_name": "base",
   "language": "python",
   "name": "python3"
  },
  "language_info": {
   "codemirror_mode": {
    "name": "ipython",
    "version": 3
   },
   "file_extension": ".py",
   "mimetype": "text/x-python",
   "name": "python",
   "nbconvert_exporter": "python",
   "pygments_lexer": "ipython3",
   "version": "3.8.8"
  },
  "orig_nbformat": 4
 },
 "nbformat": 4,
 "nbformat_minor": 2
}
